{
 "cells": [
  {
   "cell_type": "code",
   "execution_count": 1,
   "metadata": {
    "collapsed": false
   },
   "outputs": [
    {
     "name": "stdout",
     "output_type": "stream",
     "text": [
      "insert two digits\n",
      "3,5\n",
      "[[0, 0, 0, 0, 0], [0, 1, 2, 3, 4], [0, 2, 4, 6, 8]]\n"
     ]
    }
   ],
   "source": [
    "#Write a program which takes 2 digits, X,Y as input and generates a 2-dimensional array. \n",
    "st = input(\"insert two digits\\n\")\n",
    "st_list = st.split(sep=\",\") #splitting input into substrings by separator and using comma (space by default)\n",
    "#print(st_list)\n",
    "row = int(st_list[0])\n",
    "col = int(st_list[1])\n",
    "array = [] #raw array for future input\n",
    "for i in range(0,row):\n",
    "    array.append([])\n",
    "    for j in range (0,col):\n",
    "        array[i].append(i*j)\n",
    "\n",
    "print(array)"
   ]
  },
  {
   "cell_type": "code",
   "execution_count": 2,
   "metadata": {
    "collapsed": false,
    "scrolled": true
   },
   "outputs": [
    {
     "name": "stdout",
     "output_type": "stream",
     "text": [
      "insert D sequence\n",
      "100,150,180\n",
      "18,22,24\n"
     ]
    }
   ],
   "source": [
    "#Write a program that calculates and prints the value according to the given formula\n",
    "#import math #math.sqrt\n",
    "from math import sqrt #importing sqrt function from math library\n",
    "\n",
    "C = 50\n",
    "H = 30\n",
    "\n",
    "st = input(\"insert D sequence\\n\") #\\n in order to start from next line\n",
    "st_list = st.split(sep=\",\") #splitting input into substrings by separator and using comma (space by default)\n",
    "\n",
    "result_lst = [] #creating list for results of Q\n",
    "\n",
    "for D in st_list:\n",
    "    D = int(D)\n",
    "    Q = round(sqrt(2*C*D/H)) #rounded to nearest value\n",
    "    result_lst.append(str(Q)) #adding Q but not as int but as str\n",
    "\n",
    "print(','.join(result_lst))  #joining elements from result_lst by comma"
   ]
  },
  {
   "cell_type": "code",
   "execution_count": 3,
   "metadata": {
    "collapsed": false
   },
   "outputs": [
    {
     "name": "stdout",
     "output_type": "stream",
     "text": [
      "[1, 4, 9, 16, 25, 36, 49, 64, 81, 100, 121, 144, 169, 196, 225, 256, 289, 324, 361, 400]\n",
      "['not evenly', 'not evenly', 'not evenly', 'not evenly', 2, 'not evenly', 'not evenly', 'not evenly', 'not evenly', 7, 'not evenly', 'not evenly', 'not evenly', 'not evenly', 12, 'not evenly', 'not evenly', 'not evenly', 'not evenly', 17]\n"
     ]
    }
   ],
   "source": [
    "#Define a function which can generate and print a list where the values are square of numbers between 1 and 20\n",
    "#Write proper doc string for the function\n",
    "\n",
    "def square_numbers():\n",
    "    '''generate and print a list where the values are square of numbers between 1 and 20'''\n",
    "    lst = [a**2 for a in range(1, 21)] #list comprehension\n",
    "    print(lst)\n",
    "\n",
    "square_numbers()\n",
    "\n",
    "#Define a function which can generate and print a list where the values are elements from 1 to 20  decreased by 3 which\n",
    "#can be evenly divided by 5 (бкз остатка)\n",
    "lst2 = [a-3 if a%5 == 0 else 'not evenly' for a in range(1, 21)]\n",
    "print(lst2)"
   ]
  },
  {
   "cell_type": "code",
   "execution_count": null,
   "metadata": {
    "collapsed": true
   },
   "outputs": [],
   "source": [
    "#Write a program to compute the frequency of the words from the input. The output should print after sorting the key alphanumerically.\n",
    "#Words can contain numbers i.e they will be alphanumeric eg: ucsl16, challenge2 ...\n",
    "\n",
    "st = input(\"print the text: \\n\")\n",
    "words = st.split()\n",
    "vocab = {} #creating empty dictionary\n",
    "for i in words:\n",
    "    vocab[i] = vocab.get(i, 0) + 1;\n",
    "\n",
    "#for key, value in vocab.items():       #printing vocab\n",
    "#    print('{}: {}'.format(key, value)) \n",
    "\n",
    "for key in sorted(vocab.keys()):    #сортируем ключи словаря и таким образом сортируем словарь при выводе\n",
    "    print('{}: {}'.format(key, vocab[key]))"
   ]
  }
 ],
 "metadata": {
  "kernelspec": {
   "display_name": "Python 3",
   "language": "python",
   "name": "python3"
  },
  "language_info": {
   "codemirror_mode": {
    "name": "ipython",
    "version": 3
   },
   "file_extension": ".py",
   "mimetype": "text/x-python",
   "name": "python",
   "nbconvert_exporter": "python",
   "pygments_lexer": "ipython3",
   "version": "3.4.2"
  }
 },
 "nbformat": 4,
 "nbformat_minor": 0
}
