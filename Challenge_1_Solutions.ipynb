{
 "cells": [
  {
   "cell_type": "code",
   "execution_count": 1,
   "metadata": {
    "collapsed": false
   },
   "outputs": [
    {
     "name": "stdout",
     "output_type": "stream",
     "text": [
      "hello\n",
      "llohe\n"
     ]
    }
   ],
   "source": [
    "import sys\n",
    "\n",
    "st = input()\n",
    "result = st[2:] + st[:2]\n",
    "print(result)"
   ]
  },
  {
   "cell_type": "code",
   "execution_count": 2,
   "metadata": {
    "collapsed": false
   },
   "outputs": [
    {
     "name": "stdout",
     "output_type": "stream",
     "text": [
      "1\n",
      "2\n",
      "3\n",
      "4\n",
      "5\n",
      "6\n",
      "7\n",
      "8\n",
      "9\n"
     ]
    }
   ],
   "source": [
    "for x in range(1, 10):\n",
    "    print (x)\n",
    "    "
   ]
  },
  {
   "cell_type": "code",
   "execution_count": 3,
   "metadata": {
    "collapsed": false
   },
   "outputs": [
    {
     "name": "stdout",
     "output_type": "stream",
     "text": [
      "hello world 123!\n",
      "LETTERS 10\n",
      "DIGITS 3\n"
     ]
    }
   ],
   "source": [
    "st = input()\n",
    "letters = 0\n",
    "digits = 0\n",
    "for ch in st:\n",
    "    if ch.isalpha():\n",
    "        letters += 1\n",
    "    if ch.isdigit():\n",
    "        digits += 1\n",
    "print('LETTERS', letters)\n",
    "print('DIGITS', digits)\n"
   ]
  },
  {
   "cell_type": "code",
   "execution_count": null,
   "metadata": {
    "collapsed": false
   },
   "outputs": [],
   "source": [
    "st = input()\n",
    "params = st.split()\n",
    "account = 0\n",
    "while params[0] != 'E':\n",
    "    if params[0] == \"D\":\n",
    "        account += int(params[1])\n",
    "    elif params[0] == \"W\":\n",
    "        account -= int(params[1])\n",
    "    st = input()\n",
    "    params = st.split()\n",
    "print(account)\n"
   ]
  },
  {
   "cell_type": "code",
   "execution_count": 5,
   "metadata": {
    "collapsed": false
   },
   "outputs": [
    {
     "name": "stdout",
     "output_type": "stream",
     "text": [
      "Enter your password: ABD123@1\n",
      "Weak Password\n"
     ]
    }
   ],
   "source": [
    "import string\n",
    "\n",
    "uppercase = False\n",
    "lowercase = False\n",
    "digits = False\n",
    "symbols = False\n",
    "\n",
    "symbol_list = '$#@'\n",
    "\n",
    "password = input(\"Enter your password: \")\n",
    "\n",
    "length = (6 <= len(password)) and (len(password) <= 12)\n",
    "\n",
    "for ch in password:\n",
    "    if ch in string.ascii_uppercase:\n",
    "        uppercase = True\n",
    "    elif ch in string.ascii_lowercase:\n",
    "        lowercase = True\n",
    "    elif ch in string.digits:\n",
    "        digits = True\n",
    "    elif ch in symbol_list:\n",
    "        symbols = True\n",
    "#print(uppercase, lowercase, digits, symbols, length)\n",
    "\n",
    "if uppercase and lowercase and digits and symbols and length:\n",
    "    print (\"Strong Password\")\n",
    "else:\n",
    "    print (\"Weak Password\")"
   ]
  }
 ],
 "metadata": {
  "kernelspec": {
   "display_name": "Python 3",
   "language": "python",
   "name": "python3"
  },
  "language_info": {
   "codemirror_mode": {
    "name": "ipython",
    "version": 3
   },
   "file_extension": ".py",
   "mimetype": "text/x-python",
   "name": "python",
   "nbconvert_exporter": "python",
   "pygments_lexer": "ipython3",
   "version": "3.4.2"
  }
 },
 "nbformat": 4,
 "nbformat_minor": 0
}
